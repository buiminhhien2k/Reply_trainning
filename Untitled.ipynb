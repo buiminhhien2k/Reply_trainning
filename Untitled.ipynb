{
 "cells": [
  {
   "cell_type": "code",
   "execution_count": 15,
   "metadata": {},
   "outputs": [],
   "source": [
    "filename=open('a_solar.txt','r')\n",
    "read_filename=filename.read()\n",
    "a_solar=list(read_filename.split('\\n'))\n",
    "first_line=a_solar[0]\n",
    "list_1st_line=first_line.split()"
   ]
  },
  {
   "cell_type": "code",
   "execution_count": 16,
   "metadata": {},
   "outputs": [
    {
     "data": {
      "text/plain": [
       "['5', '3']"
      ]
     },
     "execution_count": 16,
     "metadata": {},
     "output_type": "execute_result"
    }
   ],
   "source": [
    "list_1st_line"
   ]
  },
  {
   "cell_type": "code",
   "execution_count": 20,
   "metadata": {},
   "outputs": [],
   "source": [
    "mapp=a_solar[1:int(list_1st_line[1])+1]"
   ]
  },
  {
   "cell_type": "code",
   "execution_count": 21,
   "metadata": {},
   "outputs": [
    {
     "data": {
      "text/plain": [
       "['#####', '#_##_', '#MM__']"
      ]
     },
     "execution_count": 21,
     "metadata": {},
     "output_type": "execute_result"
    }
   ],
   "source": [
    "mapp"
   ]
  },
  {
   "cell_type": "code",
   "execution_count": 26,
   "metadata": {},
   "outputs": [],
   "source": [
    "manager_seat=[]\n",
    "dev_seat=[]\n",
    "unva_seat=[]\n",
    "for i in range(len(mapp)):\n",
    "    each_line=mapp[i]\n",
    "    for k in range(len(each_line)):\n",
    "        each_element=each_line[k]\n",
    "        if each_element =='#':\n",
    "            unva_seat.append([k,i])\n",
    "        elif each_element =='_':\n",
    "            dev_seat.append([k,i])\n",
    "        elif each_element =='M':\n",
    "            manager_seat.append([k,i])\n",
    "import numpy as np\n",
    "\n",
    "manager_seat=np.asarray(manager_seat)\n",
    "dev_seat=np.asarray(dev_seat)\n",
    "unva_seat=np.asarray(unva_seat)"
   ]
  },
  {
   "cell_type": "code",
   "execution_count": 153,
   "metadata": {},
   "outputs": [
    {
     "data": {
      "image/png": "[encoded data removed]",
      "text/plain": [
       "<Figure size 360x216 with 1 Axes>"
      ]
     },
     "metadata": {
      "needs_background": "light"
     },
     "output_type": "display_data"
    }
   ],
   "source": [
    "import matplotlib.cm as cm\n",
    "import matplotlib.pyplot as plt\n",
    "\n",
    "mapp_vec=[manager_seat,dev_seat,unva_seat]\n",
    "colorlist = iter(cm.rainbow(np.linspace(0, 1, len(mapp_vec))))\n",
    "fig=plt.figure(figsize=(int(list_1st_line[0]),int(list_1st_line[1])))\n",
    "ax = fig.add_subplot()\n",
    "for vector in mapp_vec:\n",
    "    plt.scatter(vector[:,0],vector[:,1],color=next(colorlist),marker='s',s=200)\n",
    "plt.gca().invert_yaxis()\n",
    "for k in manager_seat:\n",
    "    ax.text(k[0],k[1],'('+str((k[0]))+';'+str(k[1])+')',size=11,rotation=-45,\n",
    "        color='grey',\n",
    "        verticalalignment='bottom',\n",
    "        horizontalalignment='right')\n",
    "    \n",
    "for k in dev_seat:\n",
    "    ax.text(k[0],k[1],'('+str(k[0])+';'+str(k[1])+')',size=11,rotation=-45,\n",
    "        color='black',\n",
    "        verticalalignment='bottom',\n",
    "        horizontalalignment='right')\n",
    "\n",
    "plt.show()"
   ]
  },
  {
   "cell_type": "code",
   "execution_count": 171,
   "metadata": {
    "scrolled": true
   },
   "outputs": [
    {
     "data": {
      "text/plain": [
       "array([[1, 2],\n",
       "       [2, 2]])"
      ]
     },
     "execution_count": 171,
     "metadata": {},
     "output_type": "execute_result"
    }
   ],
   "source": [
    "manager_seat"
   ]
  },
  {
   "cell_type": "code",
   "execution_count": 172,
   "metadata": {},
   "outputs": [
    {
     "data": {
      "text/plain": [
       "array([[1, 1],\n",
       "       [4, 1],\n",
       "       [3, 2],\n",
       "       [4, 2]])"
      ]
     },
     "execution_count": 172,
     "metadata": {},
     "output_type": "execute_result"
    }
   ],
   "source": [
    "dev_seat"
   ]
  },
  {
   "cell_type": "code",
   "execution_count": 178,
   "metadata": {
    "scrolled": true
   },
   "outputs": [
    {
     "data": {
      "text/plain": [
       "array([3, 2])"
      ]
     },
     "execution_count": 178,
     "metadata": {},
     "output_type": "execute_result"
    }
   ],
   "source": [
    "right_seat=np.array([manager_seat[1][0]+1,manager_seat[1][0]])\n",
    "right_seat"
   ]
  },
  {
   "cell_type": "code",
   "execution_count": 197,
   "metadata": {
    "scrolled": true
   },
   "outputs": [],
   "source": [
    "manager_seat=[]\n",
    "dev_seat=[]\n",
    "unva_seat=[]\n",
    "for i in range(len(mapp)):\n",
    "    each_line=mapp[i]\n",
    "    for k in range(len(each_line)):\n",
    "        each_element=each_line[k]\n",
    "        if each_element =='#':\n",
    "            unva_seat.append([k,i])\n",
    "        elif each_element =='_':\n",
    "            dev_seat.append([k,i])\n",
    "        elif each_element =='M':\n",
    "            manager_seat.append([k,i])\n",
    "\n",
    "n=0\n",
    "\n",
    "for i in dev_seat:\n",
    "    right_seat=[i[0]+1,i[1]]\n",
    "    left_seat=[i[0]-1,i[1]]\n",
    "    up_seat=[i[0],i[1]-1]\n",
    "    down_seat=[i[0],i[1]+1]\n",
    "    if right_seat in manager_seat or right_seat in dev_seat:\n",
    "        n+=1\n",
    "    if left_seat in manager_seat or left_seat in dev_seat:\n",
    "        n+=1\n",
    "    if up_seat in manager_seat or up_seat in dev_seat:\n",
    "        n+=1\n",
    "    if  down_seat in manager_seat or down_seat in dev_seat:\n",
    "        n+=1\n",
    "        \n",
    "\n",
    "for i in manager_seat:\n",
    "    right_seat=[i[0]+1,i[1]]\n",
    "    left_seat=[i[0]-1,i[1]]\n",
    "    up_seat=[i[0],i[1]-1]\n",
    "    down_seat=[i[0],i[1]+1]\n",
    "    if right_seat in manager_seat or right_seat in dev_seat:\n",
    "        n+=1\n",
    "    if left_seat in manager_seat or left_seat in dev_seat:\n",
    "        n+=1\n",
    "    if up_seat in manager_seat or up_seat in dev_seat:\n",
    "        n+=1\n",
    "    if  down_seat in manager_seat or down_seat in dev_seat:\n",
    "        n+=1"
   ]
  },
  {
   "cell_type": "code",
   "execution_count": 199,
   "metadata": {},
   "outputs": [
    {
     "data": {
      "text/plain": [
       "10"
      ]
     },
     "execution_count": 199,
     "metadata": {},
     "output_type": "execute_result"
    }
   ],
   "source": [
    "n"
   ]
  },
  {
   "cell_type": "code",
   "execution_count": 64,
   "metadata": {},
   "outputs": [],
   "source": [
    "dever_list=a_solar[int(list_1st_line[1])+2:int(list_1st_line[1])+2+int(a_solar[int(list_1st_line[1])+1])]\n",
    "skill_of_indiviadual=[]\n",
    "for i in range(len(dever_list)):\n",
    "    dever_list[i]=dever_list[i].split()\n",
    "    skill_of_indiviadual.append(dever_list[i][3:])"
   ]
  },
  {
   "cell_type": "code",
   "execution_count": 122,
   "metadata": {},
   "outputs": [],
   "source": [
    "def WP(a,b):\n",
    "    common_skil=[]\n",
    "    unique_skills=[]\n",
    "    for i in skill_of_indiviadual[a]:\n",
    "        if i in skill_of_indiviadual[b]:\n",
    "            common_skil.append(i)\n",
    "        elif i not in unique_skills:\n",
    "            unique_skills.append(i)\n",
    "    for i in skill_of_indiviadual[b]:\n",
    "        if i in common_skil or i in unique_skills:\n",
    "            continue\n",
    "        elif i not in unique_skills:\n",
    "            unique_skills.append(i)\n",
    "    \n",
    "    for k in common_skil:\n",
    "        unique_skills.append(k)\n",
    "    return print(len(common_skil)*len(unique_skills))        "
   ]
  },
  {
   "cell_type": "code",
   "execution_count": 125,
   "metadata": {},
   "outputs": [
    {
     "data": {
      "text/plain": [
       "[['opn', '7', '2', 'java', 'bpm'],\n",
       " ['clstr', '5', '2', 'python', 'azure'],\n",
       " ['opn', '8', '2', 'python', 'java'],\n",
       " ['com_vl', '4', '3', 'java', 'cybersecurity', 'big_data'],\n",
       " ['mac', '1', '2', 'nlp', 'big_data'],\n",
       " ['clstr', '3', '2', 'azure', 'c#'],\n",
       " ['com_vl', '6', '2', 'cybersecurity', 'python'],\n",
       " ['opn', '2', '3', 'bpm', 'python', 'project_management'],\n",
       " ['ble', '5', '4', 'java', 'c', 'sql', 'junit'],\n",
       " ['clstr', '1', '4', 'python', 'c', 'java', 'bpm']]"
      ]
     },
     "execution_count": 125,
     "metadata": {},
     "output_type": "execute_result"
    }
   ],
   "source": [
    "dever_list"
   ]
  },
  {
   "cell_type": "code",
   "execution_count": 141,
   "metadata": {},
   "outputs": [],
   "source": [
    "point=[]\n",
    "for i in dever_list[:-1]:\n",
    "    company=i[0]\n",
    "    company_list=[]\n",
    "    z=0\n",
    "    dictt={}\n",
    "    for k in dever_list[dever_list.index(i)+1:]:\n",
    "        second_company=k[0]\n",
    "        if company==second_company:\n",
    "            string=str(dever_list.index(i))+' and '+str(dever_list.index(k))\n",
    "            dictt[string]=int(i[1])*int(k[1])\n",
    "\n",
    "    point.append(dictt)\n",
    "    "
   ]
  },
  {
   "cell_type": "code",
   "execution_count": 146,
   "metadata": {},
   "outputs": [
    {
     "data": {
      "text/plain": [
       "[{'0 and 2': 56, '0 and 7': 14},\n",
       " {'1 and 5': 15, '1 and 9': 5},\n",
       " {'2 and 7': 16},\n",
       " {'3 and 6': 24},\n",
       " {},\n",
       " {'5 and 9': 3},\n",
       " {},\n",
       " {},\n",
       " {}]"
      ]
     },
     "execution_count": 146,
     "metadata": {},
     "output_type": "execute_result"
    }
   ],
   "source": [
    "point"
   ]
  },
  {
   "cell_type": "code",
   "execution_count": 162,
   "metadata": {},
   "outputs": [],
   "source": [
    "check_point=[]\n",
    "for i in point:\n",
    "    if bool (i):\n",
    "        for k in i:\n",
    "            check_point.append([k,i[k]])"
   ]
  },
  {
   "cell_type": "code",
   "execution_count": 163,
   "metadata": {},
   "outputs": [
    {
     "data": {
      "text/plain": [
       "[['0 and 2', 56],\n",
       " ['0 and 7', 14],\n",
       " ['1 and 5', 15],\n",
       " ['1 and 9', 5],\n",
       " ['2 and 7', 16],\n",
       " ['3 and 6', 24],\n",
       " ['5 and 9', 3]]"
      ]
     },
     "execution_count": 163,
     "metadata": {},
     "output_type": "execute_result"
    }
   ],
   "source": [
    "check_point"
   ]
  },
  {
   "cell_type": "code",
   "execution_count": null,
   "metadata": {},
   "outputs": [],
   "source": []
  }
 ],
 "metadata": {
  "kernelspec": {
   "display_name": "Python 3",
   "language": "python",
   "name": "python3"
  },
  "language_info": {
   "codemirror_mode": {
    "name": "ipython",
    "version": 3
   },
   "file_extension": ".py",
   "mimetype": "text/x-python",
   "name": "python",
   "nbconvert_exporter": "python",
   "pygments_lexer": "ipython3",
   "version": "3.7.4"
  }
 },
 "nbformat": 4,
 "nbformat_minor": 2
}
