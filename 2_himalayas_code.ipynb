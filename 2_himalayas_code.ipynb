{
 "cells": [
  {
   "cell_type": "code",
   "execution_count": 2,
   "metadata": {},
   "outputs": [],
   "source": [
    "filename=open('2_himalayas.txt','r')\n",
    "read_filename=filename.read()\n",
    "hymalias=list(read_filename.split('\\n'))\n",
    "first_line=hymalias[0]\n",
    "list_1st_line=first_line.split()"
   ]
  },
  {
   "cell_type": "code",
   "execution_count": 3,
   "metadata": {},
   "outputs": [
    {
     "data": {
      "text/plain": [
       "['600', '400', '68', '18']"
      ]
     },
     "execution_count": 3,
     "metadata": {},
     "output_type": "execute_result"
    }
   ],
   "source": [
    "list_1st_line"
   ]
  },
  {
   "cell_type": "code",
   "execution_count": 4,
   "metadata": {},
   "outputs": [],
   "source": [
    "map=hymalias[int(list_1st_line[2])+1:-1]\n",
    "target_point=[]\n",
    "for i in hymalias[1:int(list_1st_line[2])+1]:\n",
    "    X,Y,point_=i.split()\n",
    "    target_point.append([int(X),int(Y)])\n"
   ]
  },
  {
   "cell_type": "code",
   "execution_count": 5,
   "metadata": {},
   "outputs": [],
   "source": [
    "mountain_=[]\n",
    "water=[]\n",
    "traffic_jam=[]\n",
    "dirt=[]\n",
    "rail_cros=[]\n",
    "standard=[]\n",
    "highway=[]\n",
    "railway=[]\n",
    "for i in range(len(map)):\n",
    "    line=map[i]\n",
    "    for k in range(len(line)):\n",
    "        character=line[k]\n",
    "        if character=='#':\n",
    "            mountain_.append([i,k])\n",
    "        elif character=='~':\n",
    "            water.append([i,k])\n",
    "        elif character=='*':\n",
    "            traffic_jam.append([i,k])\n",
    "        elif character=='+':\n",
    "            dirt.append([i,k])\n",
    "        elif character=='X':\n",
    "            rail_cros.append([i,k])\n",
    "        elif character=='_':\n",
    "            standard.append([i,k])\n",
    "        elif character=='H':\n",
    "            highway.append([i,k])\n",
    "        elif character=='T':\n",
    "            railway.append([i,k])\n"
   ]
  },
  {
   "cell_type": "code",
   "execution_count": 6,
   "metadata": {},
   "outputs": [],
   "source": [
    "import numpy as np\n",
    "mountain_=np.asarray(mountain_)\n",
    "water=np.asarray(water)\n",
    "traffic_jam=np.asarray(traffic_jam)\n",
    "dirt=np.asarray(dirt)\n",
    "rail_cros=np.asarray(rail_cros)\n",
    "standard=np.asarray(standard)\n",
    "highway=np.asarray(highway)\n",
    "railway=np.asarray(railway)\n",
    "map_vector=[mountain_,water,traffic_jam,dirt,rail_cros,standard,highway,railway]"
   ]
  },
  {
   "cell_type": "code",
   "execution_count": 7,
   "metadata": {},
   "outputs": [],
   "source": [
    "def initmeans():\n",
    "    init_means=[]\n",
    "    for time in range(int(list_1st_line[3])):\n",
    "        init_means_cluster = np.random.randn(1,2)\n",
    "        init_means.append(init_means_cluster)\n",
    "    return np.asarray(init_means)"
   ]
  },
  {
   "cell_type": "code",
   "execution_count": 8,
   "metadata": {},
   "outputs": [
    {
     "data": {
      "text/plain": [
       "<Figure size 1630x1620 with 1 Axes>"
      ]
     },
     "metadata": {},
     "output_type": "display_data"
    }
   ],
   "source": [
    "import matplotlib.pyplot as plt\n",
    "import matplotlib.cm as cm\n",
    "from sklearn.cluster import KMeans\n",
    "\n",
    "colorlist = iter(cm.rainbow(np.linspace(0, 1, len(map_vector))))\n",
    "fig=plt.figure(figsize=(16.3,16.2))\n",
    "ax = fig.add_subplot()\n",
    "for vector in map_vector:\n",
    "    plt.scatter(vector[:,1],vector[:,0],color=next(colorlist),marker='s',s=1)\n",
    "for i in target_point:\n",
    "    plt.scatter(i[0],i[1],marker='X',color='black',s=100)\n",
    "    ax.text(i[0],i[1],'('+str(i[0])+';'+str(i[1])+')',size=11,rotation=-45,\n",
    "            color='black',\n",
    "            verticalalignment='bottom',\n",
    "            horizontalalignment='right')\n",
    "\n",
    "r=500\n",
    "clustering_err = np.zeros(r,)\n",
    "cluster_assignment = np.zeros((r, int(list_1st_line[2])), dtype=np.int32)\n",
    "cluster_center=np.zeros((r,18,2 ),dtype=np.int32)\n",
    "\n",
    "for time in range(r):\n",
    "    k_means = KMeans(n_clusters = int(list_1st_line[3]), max_iter = 100).fit(target_point) \n",
    "    cluster_means = k_means.cluster_centers_\n",
    "    cluster_indices = k_means.labels_ \n",
    "    clustering_err[time]=k_means.inertia_/int(list_1st_line[3])\n",
    "    cluster_assignment[time]=k_means.predict(target_point).reshape(1,-1)\n",
    "    cluster_center[time]=k_means.cluster_centers_\n",
    "min_ind=np.where(clustering_err==clustering_err.min())[0][0]\n",
    "cluster_means=cluster_center[min_ind]\n",
    "cluster_indices=cluster_assignment[min_ind]\n",
    "\n",
    "for i in range(cluster_means.shape[0]):\n",
    "    for k in range(cluster_means.shape[1]):\n",
    "        cluster_means[i][k]=round(cluster_means[i][k])\n",
    "        \n",
    "target_point_array=np.asarray(target_point)\n",
    "target_and_label=np.hstack([target_point_array,cluster_indices.reshape(-1,1)])\n",
    "group=[]\n",
    "for ind in range(int(list_1st_line[3])):\n",
    "    group.append(target_and_label[target_and_label[:,2]==ind])\n",
    "colorlist1 = iter(cm.rainbow(np.linspace(0, 1, len(group))))\n",
    "\n",
    "\n",
    "for vector in group:\n",
    "    plt.scatter(vector[:,0],vector[:,1],color=next(colorlist1),marker='o',s=30)\n",
    "\n",
    "plt.scatter(cluster_means[:,0],cluster_means[:,1],marker='X',s=120,color='white')\n",
    "plt.gca().invert_yaxis()    \n",
    "plt.show()"
   ]
  },
  {
   "cell_type": "code",
   "execution_count": 9,
   "metadata": {},
   "outputs": [
    {
     "data": {
      "image/png": "[encoded data removed]",
      "text/plain": [
       "<Figure size 432x288 with 1 Axes>"
      ]
     },
     "metadata": {
      "needs_background": "light"
     },
     "output_type": "display_data"
    }
   ],
   "source": [
    "target_point_array=np.asarray(target_point)\n",
    "target_and_label=np.hstack([target_point_array,cluster_indices.reshape(-1,1)])\n",
    "group=[]\n",
    "for ind in range(int(list_1st_line[3])):\n",
    "    group.append(target_and_label[target_and_label[:,2]==ind])\n",
    "colorlist1 = iter(cm.rainbow(np.linspace(0, 1, len(group))))\n",
    "for vector in group:\n",
    "    plt.scatter(vector[:,0],vector[:,1],color=next(colorlist1),marker='x',s=100)\n",
    "plt.gca().invert_yaxis()    \n",
    "\n"
   ]
  },
  {
   "cell_type": "code",
   "execution_count": 10,
   "metadata": {},
   "outputs": [],
   "source": [
    "testing=[]\n",
    "for k in range(len(group)):\n",
    "    matrix=group[k]\n",
    "    a=np.zeros((1,5))\n",
    "    for i in range(len(matrix)):\n",
    "        \n",
    "        a=np.vstack([a,np.hstack([matrix[i],cluster_means[k]])])\n",
    "    testing.append(a)"
   ]
  },
  {
   "cell_type": "code",
   "execution_count": 12,
   "metadata": {},
   "outputs": [],
   "source": [
    "fileee=open('2_himalayas_result.txt','w')\n",
    "\n",
    "for i in range(len(testing)):\n",
    "    each_group=testing[i]\n",
    "    for k in range(1,len(each_group)):\n",
    "        horizontal_delta=int(each_group[k][0]-each_group[k][-2])\n",
    "        vertical_delta=int(each_group[k][1]-each_group[k][-1])\n",
    "        path=''\n",
    "        form='{} {} {}\\n'\n",
    "        if (horizontal_delta<0) and (vertical_delta<0):\n",
    "            path+='L'*abs(horizontal_delta)\n",
    "            path+='U'*abs(vertical_delta)\n",
    "            fileee.write(form.format(int(each_group[k][-2]),int(each_group[k][-1]),path))\n",
    "        elif (horizontal_delta<0) and (vertical_delta>0):\n",
    "            path+='L'*abs(horizontal_delta)\n",
    "            path+='D'*abs(vertical_delta)\n",
    "            fileee.write(form.format(int(each_group[k][-2]),int(each_group[k][-1]),path))\n",
    "        elif (horizontal_delta>0) and (vertical_delta<0):\n",
    "            path+='R'*abs(horizontal_delta)\n",
    "            path+='U'*abs(vertical_delta)\n",
    "            fileee.write(form.format(int(each_group[k][-2]),int(each_group[k][-1]),path))\n",
    "        elif (horizontal_delta>0) and (vertical_delta>0):\n",
    "            path+='R'*abs(horizontal_delta)\n",
    "            path+='D'*abs(vertical_delta)\n",
    "            fileee.write(form.format(int(each_group[k][-2]),int(each_group[k][-1]),path))\n",
    "        else:\n",
    "            fileee.write(form.format(int(each_group[k][-2])-1,int(each_group[k][-1]),'R'))"
   ]
  },
  {
   "cell_type": "code",
   "execution_count": null,
   "metadata": {},
   "outputs": [],
   "source": []
  }
 ],
 "metadata": {
  "kernelspec": {
   "display_name": "Python 3",
   "language": "python",
   "name": "python3"
  },
  "language_info": {
   "codemirror_mode": {
    "name": "ipython",
    "version": 3
   },
   "file_extension": ".py",
   "mimetype": "text/x-python",
   "name": "python",
   "nbconvert_exporter": "python",
   "pygments_lexer": "ipython3",
   "version": "3.7.4"
  }
 },
 "nbformat": 4,
 "nbformat_minor": 2
}
