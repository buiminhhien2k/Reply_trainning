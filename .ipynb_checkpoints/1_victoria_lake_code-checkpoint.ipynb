{
 "cells": [
  {
   "cell_type": "code",
   "execution_count": 1,
   "metadata": {},
   "outputs": [],
   "source": [
    "filename=open('1_victoria_lake.txt','r')\n",
    "read_filename=filename.read()\n",
    "victoria_lake=list(read_filename.split('\\n'))\n",
    "first_line=victoria_lake[0]\n",
    "list_1st_line=first_line.split()"
   ]
  },
  {
   "cell_type": "code",
   "execution_count": 2,
   "metadata": {},
   "outputs": [
    {
     "name": "stdout",
     "output_type": "stream",
     "text": [
      "['50', '50', '20', '8']\n"
     ]
    }
   ],
   "source": [
    "print(list_1st_line)"
   ]
  },
  {
   "cell_type": "code",
   "execution_count": 3,
   "metadata": {},
   "outputs": [],
   "source": [
    "map=victoria_lake[int(list_1st_line[2])+1:-1]\n",
    "target_point=[]\n",
    "for i in victoria_lake[1:int(list_1st_line[2])+1]:\n",
    "    X,Y,point_=i.split()\n",
    "    target_point.append([int(X),int(Y)])"
   ]
  },
  {
   "cell_type": "code",
   "execution_count": 4,
   "metadata": {},
   "outputs": [],
   "source": [
    "mountain_=[]\n",
    "water=[]\n",
    "traffic_jam=[]\n",
    "dirt=[]\n",
    "rail_cros=[]\n",
    "standard=[]\n",
    "highway=[]\n",
    "railway=[]\n",
    "import numpy as np\n",
    "for i in range(len(map)):\n",
    "    i=len(map)-1-i\n",
    "    line=map[i]\n",
    "    for k in range(len(line)):\n",
    "        character=line[k]\n",
    "        if character=='#':\n",
    "            mountain_.append([i,k])\n",
    "        elif character=='~':\n",
    "            water.append([i,k])\n",
    "        elif character=='*':\n",
    "            traffic_jam.append([i,k])\n",
    "        elif character=='+':\n",
    "            dirt.append([i,k])\n",
    "        elif character=='X':\n",
    "            rail_cros.append([i,k])\n",
    "        elif character=='_':\n",
    "            standard.append([i,k])\n",
    "        elif character=='H':\n",
    "            highway.append([i,k])\n",
    "        elif character=='T':\n",
    "            railway.append([i,k])\n"
   ]
  },
  {
   "cell_type": "code",
   "execution_count": 5,
   "metadata": {},
   "outputs": [],
   "source": [
    "mountain_=np.asarray(mountain_)\n",
    "water=np.asarray(water)\n",
    "traffic_jam=np.asarray(traffic_jam)\n",
    "dirt=np.asarray(dirt)\n",
    "rail_cros=np.asarray(rail_cros)\n",
    "standard=np.asarray(standard)\n",
    "highway=np.asarray(highway)\n",
    "railway=np.asarray(railway)\n",
    "map_vector=[mountain_,water,traffic_jam,dirt,rail_cros,standard,highway,railway]"
   ]
  },
  {
   "cell_type": "code",
   "execution_count": 6,
   "metadata": {
    "scrolled": false
   },
   "outputs": [],
   "source": [
    "def initmeans():\n",
    "    init_means=[]\n",
    "    for time in range(int(list_1st_line[3])):\n",
    "        init_means_cluster = np.random.randn(1,2)\n",
    "        init_means.append(init_means_cluster)\n",
    "    return np.asarray(init_means)"
   ]
  },
  {
   "cell_type": "code",
   "execution_count": 380,
   "metadata": {},
   "outputs": [
    {
     "data": {
      "text/plain": [
       "['10 19 81',\n",
       " '12 2 44',\n",
       " '29 24 185',\n",
       " '41 8 136',\n",
       " '37 28 308',\n",
       " '31 8 488',\n",
       " '5 3 265',\n",
       " '20 15 256',\n",
       " '31 14 127',\n",
       " '8 16 104',\n",
       " '12 12 223',\n",
       " '27 21 271',\n",
       " '49 32 147',\n",
       " '30 21 134',\n",
       " '40 31 312',\n",
       " '30 4 327',\n",
       " '47 30 418',\n",
       " '21 25 355',\n",
       " '6 2 477',\n",
       " '5 2 378']"
      ]
     },
     "execution_count": 380,
     "metadata": {},
     "output_type": "execute_result"
    }
   ],
   "source": [
    "import matplotlib.pyplot as plt\n",
    "import matplotlib.cm as cm\n",
    "from sklearn.cluster import KMeans\n",
    "\n",
    "colorlist = iter(cm.rainbow(np.linspace(0, 1, len(map_vector))))\n",
    "fig=plt.figure(figsize=(30,30))\n",
    "ax = fig.add_subplot()\n",
    "for vector in map_vector:\n",
    "    plt.scatter(vector[:,1],vector[:,0],color=next(colorlist),marker='s',s=1)\n",
    "for i in target_point:\n",
    "    plt.scatter(i[0],i[1],marker='X',color='black',s=100)\n",
    "    ax.text(i[0],i[1],'('+str(i[0])+';'+str(i[1])+')',size=11,rotation=-45,\n",
    "            color='black',\n",
    "            verticalalignment='bottom',\n",
    "            horizontalalignment='right')\n",
    "\n",
    "r=500\n",
    "clustering_err = np.zeros(r,)\n",
    "cluster_assignment = np.zeros((r, int(list_1st_line[2])), dtype=np.int32)\n",
    "cluster_center=np.zeros((r,int(list_1st_line[3]),2 ),dtype=np.int32)\n",
    "\n",
    "for time in range(r):\n",
    "    k_means = KMeans(n_clusters = int(list_1st_line[3]), max_iter = 100).fit(target_point) \n",
    "    cluster_means = k_means.cluster_centers_\n",
    "    cluster_indices = k_means.labels_ \n",
    "    clustering_err[time]=k_means.inertia_/int(list_1st_line[3])\n",
    "    cluster_assignment[time]=k_means.predict(target_point).reshape(1,-1)\n",
    "    cluster_center[time]=k_means.cluster_centers_\n",
    "min_ind=np.where(clustering_err==clustering_err.min())[0][0]\n",
    "cluster_means=cluster_center[min_ind]\n",
    "cluster_indices=cluster_assignment[min_ind]\n",
    "\n",
    "for i in range(cluster_means.shape[0]):\n",
    "    for k in range(cluster_means.shape[1]):\n",
    "        cluster_means[i][k]=round(cluster_means[i][k])\n",
    "        \n",
    "target_point_array=np.asarray(target_point)\n",
    "target_and_label=np.hstack([target_point_array,cluster_indices.reshape(-1,1)])\n",
    "group=[]\n",
    "for ind in range(int(list_1st_line[3])):\n",
    "    group.append(target_and_label[target_and_label[:,2]==ind])\n",
    "colorlist1 = iter(cm.rainbow(np.linspace(0, 1, len(group))))\n",
    "\n",
    "\n",
    "for vector in group:\n",
    "    plt.scatter(vector[:,0],vector[:,1],color=next(colorlist1),marker='o',s=30)\n",
    "\n",
    "plt.scatter(cluster_means[:,0],cluster_means[:,1],marker='X',s=120,color='white')\n",
    "plt.gca().invert_yaxis()    \n",
    "plt.show()"
   ]
  },
  {
   "cell_type": "code",
   "execution_count": 381,
   "metadata": {},
   "outputs": [
    {
     "data": {
      "text/plain": [
       "['+++__T____TH+HHTTTT~TXTTTTTT+X____#######T########',\n",
       " 'TTTTTT_+++XHHHTTTTT~TTX~TTTXTX+__#################',\n",
       " '++++TT++++TH++TH++++HH+~~++++T___#######_T########',\n",
       " '+++++T++++TH++X*+++~*~~~~~+++TH*H######HHX########',\n",
       " '~++~+T++++TH++TH+~~~~~~~~~~~+TH__T__T#TTTX######_#',\n",
       " '~~~~+TXXXXTXXTTTT~~~~~~~~~~HHTH__T____T_TT_#######',\n",
       " '~~~~~H++T+TH++H+~~~~~~~~~~~TXTXTTTTTTTXXTTX#######',\n",
       " '~~~~~H*HTHTH**HH~~~~~~~~~~~++T___T______TT_######_',\n",
       " '~~~~++++XTTTTX~~~~~~~~~~~~~TXTXTTT______TT___####_',\n",
       " '~~~~~+++++HH++~~~~~~~~~~~~~~+T+__T______TT____##T_',\n",
       " '~~~~~~~+HHHHHT~~~~~~~~~~~~~~+T++_T_T__###T___#_##_',\n",
       " '~~~~~~++H+HH+T~~~~~~~~~~~~~~~T+++T_T######_____XT#',\n",
       " '~~~~~+++HHHH+X~~~~~~~~~~~~~~~~~++TTT#####T______T_',\n",
       " '~~~+TTTTTTXH+T~~~~~~~~~~~~~~~~~TT+_T#T__TTT____##_',\n",
       " '++HHHH*H*HTH+T+~~~~~~~~~~~~~~~~TTTTT_T__T_T____#T_',\n",
       " '+++++_+__+T_+TTT++~~H++~~~~~~~~+T+TT_X__TTT_____T_',\n",
       " '+++_______T_HHHTH**HH++~~~~~~~~+T+TT_T__________X_',\n",
       " '+________XTTTX+++++++++~~~~~~~~+T+TT_T____+____TT+',\n",
       " 'TTTTTTTTX_T__T___+++++++++T~~~XTTXTTTXTTTTTTTTTTTX',\n",
       " '+_________TH*T____++++++++T++T++T_TT_T__++++TTTT++',\n",
       " 'TX+__##__###_##____+TXTTTTTTTXTTTTTTTTXTXTTTXTTTTT',\n",
       " 'TXXTTT#*H#######TTTTTXHHHHHHHT*HTHTX+X+++++_X_+TH~',\n",
       " 'TTTTTXTXT########____T_++++++T++X+TT+T++____T++T~~',\n",
       " '_TTH#__H_########____T__+++++T++T++T+TX+____T+++~~',\n",
       " '_H___#_H#########_##TTTTT++++T++T++T+TT_____T+++~~',\n",
       " '_H__#############_HHTX__T++++X_++++X_TX_____T+++H+',\n",
       " '_HH_########_T##____XT__T++++T__+_+TTTX_____T_++H+',\n",
       " 'TTT########TXTT###TTTT__THH*_T_____T__X_____TTTTTT',\n",
       " '_H##########_T__###_HX__T_H__T____+X__X_______++H+',\n",
       " '####################HT__H____T___++___T_________H+',\n",
       " '_###################*T__H____T_T++++__T_________H_',\n",
       " 'HH##################*THH*HHHHT_T++++__X____####HHH',\n",
       " 'T##################_HT__H___HT_T++++__T__######__T',\n",
       " '_##################_HT_HH___*T+T+++___T__#######__',\n",
       " 'H###################HTHH____H++T+++_HHX##########H',\n",
       " '__##################HT____+_H++T+___H#############',\n",
       " '____TT#################_TTXTTTTTT___##############',\n",
       " '____TT##################TTTTTXTTT_################',\n",
       " '_______####################T__TTT#################',\n",
       " '______######################__####################',\n",
       " '______############################################',\n",
       " '______############################################',\n",
       " 'TTTTTT############################################',\n",
       " '______############################################',\n",
       " '_##H*H############################################',\n",
       " '__#_##############################################',\n",
       " '_____T############################################',\n",
       " '_____#############################################',\n",
       " '_____T######################################____##',\n",
       " 'H**HHTH##############################HTHHXHHHHHHHH']"
      ]
     },
     "execution_count": 381,
     "metadata": {},
     "output_type": "execute_result"
    }
   ],
   "source": [
    "map"
   ]
  },
  {
   "cell_type": "code",
   "execution_count": null,
   "metadata": {},
   "outputs": [],
   "source": []
  }
 ],
 "metadata": {
  "kernelspec": {
   "display_name": "Python 3",
   "language": "python",
   "name": "python3"
  },
  "language_info": {
   "codemirror_mode": {
    "name": "ipython",
    "version": 3
   },
   "file_extension": ".py",
   "mimetype": "text/x-python",
   "name": "python",
   "nbconvert_exporter": "python",
   "pygments_lexer": "ipython3",
   "version": "3.7.4"
  }
 },
 "nbformat": 4,
 "nbformat_minor": 2
}
